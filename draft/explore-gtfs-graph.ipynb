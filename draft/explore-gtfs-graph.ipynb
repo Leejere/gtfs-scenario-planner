{
 "cells": [
  {
   "cell_type": "code",
   "execution_count": 2,
   "metadata": {},
   "outputs": [],
   "source": [
    "import numpy as np\n",
    "import pandas as pd\n",
    "import geopandas as gpd\n",
    "import zipfile\n",
    "\n",
    "from shapely.geometry import LineString\n",
    "import networkx as nx\n",
    "import itertools"
   ]
  },
  {
   "cell_type": "markdown",
   "metadata": {},
   "source": [
    "Read in the GTFS from a .zip file"
   ]
  },
  {
   "cell_type": "code",
   "execution_count": 3,
   "metadata": {},
   "outputs": [],
   "source": [
    "gtfs = {}\n",
    "\n",
    "with zipfile.ZipFile(\"example-data/septa-bus-gtfs.zip\", \"r\") as z:\n",
    "    for filename in z.namelist():\n",
    "        if filename.endswith(\"txt\"):\n",
    "            with z.open(filename) as f:\n",
    "                gtfs[filename[:-4]] = pd.read_csv(f)"
   ]
  },
  {
   "cell_type": "code",
   "execution_count": 3,
   "metadata": {},
   "outputs": [
    {
     "data": {
      "text/plain": [
       "dict_keys(['agency', 'calendar', 'calendar_dates', 'fare_attributes', 'fare_rules', 'routes', 'shapes', 'stop_times', 'stops', 'transfers', 'trips'])"
      ]
     },
     "execution_count": 3,
     "metadata": {},
     "output_type": "execute_result"
    }
   ],
   "source": [
    "gtfs.keys()"
   ]
  },
  {
   "cell_type": "markdown",
   "metadata": {},
   "source": [
    "## How to make a network"
   ]
  },
  {
   "cell_type": "markdown",
   "metadata": {},
   "source": [
    "Transit networks have special characteristics deviating from normal networks (for example, the street network). They include:\n",
    "\n",
    "### Variable edge weights by schedule and real-time factors\n",
    "\n",
    "It is straightforward to consider \"edges\" in a transit network as the rides between stops, and the weights of these edges are the associated travel times. However, travel times may vary\n",
    "\n",
    "- By schedule: the GTFS dictates the schedule of bus speeds, which may vary by time of day, day of week, or other factors.\n",
    "\n",
    "- Actual traffic situations: Even if a GTFS schedule dictates certain travel speeds, it **may not** be worthwhile to stringently follow scheduled departure/arrival times, as the actual travel speeds are dependent on many other factors. Therefore, sometimes it might be enough to just used more simplified travel times for certain periods, especially for more frequent transit services. The errors or deviation from using this approach from the actual condition are not necessarily larger than estimations using exact schedules.\n",
    "\n",
    "### Problems with transfers\n",
    "\n",
    "When building the transit network in a more traditional way, we may consider \"stops\" to be nodes, and \"rides\" to be edges. A typical path finding algorithm may want to find the shortest path between nodes by minimizing the sum of edge weights. However, there are two problems with this approach:\n",
    "\n",
    "- In most cases, riders avoid transfers as much as possible, and for most \"nodes\" in a path, the rider would simply continue on the same trip, without even making the decision whether to switch. The critical decisions in path finding are only made at a small number of nodes.\n",
    "\n",
    "- Transfers are not \"weightless\". They take time for the next available bus to arrive.\n",
    "\n",
    "### Trade-off between accuracy, computation complexity, and schedule disruptions\n",
    "\n",
    "One possible solution to the above problems is to build a \"time-expanded\" network: rather than considering each geographic stop as a node, we consider each *event* of departure or arrival at each stop across the day as separate **nodes**, and **edges** include not just rides between stops, but also the stopping events and transfers that happen between stops. Theoretically, this could simulate the operation of the transit system in the most accurate way. However, this approach also has the following problems:\n",
    "\n",
    "- Computation complexity. The number of nodes and edges in the network would be much larger than the original network, and the computation complexity would be much higher. This is especially true when we are not just calculating for occasional path finding, but for a large number of OD pairs to measure the connectivity of the entire network.\n",
    "- Schedule disruptions. Real-time disruptions may render all the extral computational work not worthwhile, as real-time conditions often cause discrepancies between the scheduled and actual arrival/departure events, which are not necessarily smaller than the discrepancies from using a simplified estimation method (i.e., using a fixed travel speed or headway for a given period).\n",
    "\n",
    "### Missing connections between nearby stops\n",
    "\n",
    "Regardless if we consider \"stops\" as nodes or \"events\" as nodes, some connections always tend to be missed, that is, the connections between stops where no riding connections are available, but accessible by walking under certain minutes.\n",
    "\n",
    "## A Hybrid Approach\n",
    "\n",
    "Trading off the benefits and drawbacks of different network-building techniques, we propose a hybrid approach:\n",
    "\n",
    "**Two Networks**: we build both a time-expanded network, which considers each event as a node, and a simplified space-expanded network (maybe two for morning and evening peaks). The time-expanded network is used for the path finding between single or a small number of OD pairs with exact departure times. The space-expanded network is used for the path finding between a large number of OD pairs, for which the departure times are not necessarily exact. The latter approach is used to measure the connectivity of the entire network or between city districts by averaging travel times between a large number of OD pairs.\n",
    "\n",
    "**Walking Connections**: apart from \"ride\" edges, and \"wait\" and \"transfer\" edges for the time-expanded network, we add additional \"walk\" edges between stops that are within a certain walking distance. This is to ensure that the path finding algorithm can find the shortest path between any two stops, even if there is no riding connection between them."
   ]
  },
  {
   "cell_type": "markdown",
   "metadata": {},
   "source": [
    "## Step 1: Making Walking Connections"
   ]
  },
  {
   "cell_type": "code",
   "execution_count": 4,
   "metadata": {},
   "outputs": [],
   "source": [
    "stops_gdf = gpd.GeoDataFrame(\n",
    "    gtfs[\"stops\"],\n",
    "    geometry=gpd.points_from_xy(gtfs[\"stops\"].stop_lon, gtfs[\"stops\"].stop_lat),\n",
    "    crs=\"EPSG:4326\"\n",
    ").to_crs(\"EPSG:2272\")"
   ]
  },
  {
   "cell_type": "code",
   "execution_count": 5,
   "metadata": {},
   "outputs": [],
   "source": [
    "quarter_mile = 0.25 * 5280"
   ]
  },
  {
   "cell_type": "code",
   "execution_count": 6,
   "metadata": {},
   "outputs": [],
   "source": [
    "results = []\n",
    "\n",
    "for index, stop in stops_gdf.iterrows():\n",
    "    buffer = stop.geometry.buffer(quarter_mile)\n",
    "\n",
    "    # Use the spatial index to find stops within the buffer\n",
    "    potential_matches_index = list(stops_gdf.sindex.intersection(buffer.bounds))\n",
    "    potential_matches = stops_gdf.iloc[potential_matches_index]\n",
    "\n",
    "    # Check actual distances\n",
    "    for _, potential_stop in potential_matches.iterrows():\n",
    "        if (\n",
    "            stop[\"stop_id\"] != potential_stop[\"stop_id\"]\n",
    "            and stop[\"geometry\"].distance(potential_stop[\"geometry\"]) <= quarter_mile\n",
    "        ):\n",
    "            results.append(\n",
    "                {\n",
    "                    \"from_stop_id\": stop[\"stop_id\"],\n",
    "                    \"to_stop_id\": potential_stop[\"stop_id\"],\n",
    "                    \"distance\": stop[\"geometry\"].distance(potential_stop[\"geometry\"]),\n",
    "                }\n",
    "            )\n",
    "walk_connections = pd.DataFrame(results)\n",
    "\n",
    "# Consider a walking speed of 4 feet per second, and suppose the actual routing distance is 1.5 times the straight-line distance.\n",
    "walk_connections[\"time\"] = walk_connections[\"distance\"] * 1.5 / 4"
   ]
  },
  {
   "cell_type": "markdown",
   "metadata": {},
   "source": [
    "## Step 2: Make a Time-Expanded Network"
   ]
  },
  {
   "cell_type": "markdown",
   "metadata": {},
   "source": [
    "**Preparation**: Convert string arrival_time and departure_time to timedelta (because we do not care about dates for now)"
   ]
  },
  {
   "cell_type": "code",
   "execution_count": 7,
   "metadata": {},
   "outputs": [],
   "source": [
    "# Convert arrival_time and departure_time to timedelta\n",
    "def cast_time(time_col):\n",
    "    overflow_mask = time_col.str.slice(0, 2).astype(int) >= 24\n",
    "    overflows = pd.Series(np.maximum(time_col.str.slice(0, 2).astype(int) - 24, 0))\n",
    "    result_col = time_col.copy()\n",
    "    result_col.loc[overflow_mask] = overflows.astype(str).str.zfill(2) + time_col.str.slice(\n",
    "        2,\n",
    "    )\n",
    "    result_col = pd.to_timedelta(result_col)\n",
    "\n",
    "    result_col.loc[overflow_mask] += pd.to_timedelta(1, unit=\"d\")\n",
    "\n",
    "    return result_col"
   ]
  },
  {
   "cell_type": "code",
   "execution_count": 8,
   "metadata": {},
   "outputs": [],
   "source": [
    "stop_times = gtfs[\"stop_times\"].copy()\n",
    "\n",
    "stop_times[\"arrival_time\"] = cast_time(stop_times[\"arrival_time\"])\n",
    "stop_times[\"departure_time\"] = cast_time(stop_times[\"departure_time\"])"
   ]
  },
  {
   "cell_type": "markdown",
   "metadata": {},
   "source": [
    "Now we have a table `stop_times` with each **row** representing a **ride** between two stops. The columns include:\n",
    "\n",
    "- TRIP_ID\n",
    "- stop_id\n",
    "- stop_sequence\n",
    "- arrival_time: in timedelta\n",
    "- departure_time: in timedelta\n",
    "\n",
    "The rows are sorted **first by TRIP_ID, then by stop_sequence**."
   ]
  },
  {
   "cell_type": "code",
   "execution_count": 9,
   "metadata": {},
   "outputs": [
    {
     "data": {
      "text/html": [
       "<div>\n",
       "<style scoped>\n",
       "    .dataframe tbody tr th:only-of-type {\n",
       "        vertical-align: middle;\n",
       "    }\n",
       "\n",
       "    .dataframe tbody tr th {\n",
       "        vertical-align: top;\n",
       "    }\n",
       "\n",
       "    .dataframe thead th {\n",
       "        text-align: right;\n",
       "    }\n",
       "</style>\n",
       "<table border=\"1\" class=\"dataframe\">\n",
       "  <thead>\n",
       "    <tr style=\"text-align: right;\">\n",
       "      <th></th>\n",
       "      <th>trip_id</th>\n",
       "      <th>arrival_time</th>\n",
       "      <th>departure_time</th>\n",
       "      <th>stop_id</th>\n",
       "      <th>stop_sequence</th>\n",
       "    </tr>\n",
       "  </thead>\n",
       "  <tbody>\n",
       "    <tr>\n",
       "      <th>0</th>\n",
       "      <td>350890</td>\n",
       "      <td>0 days 08:39:00</td>\n",
       "      <td>0 days 08:39:00</td>\n",
       "      <td>20965</td>\n",
       "      <td>1</td>\n",
       "    </tr>\n",
       "    <tr>\n",
       "      <th>1</th>\n",
       "      <td>350890</td>\n",
       "      <td>0 days 08:43:00</td>\n",
       "      <td>0 days 08:43:00</td>\n",
       "      <td>82</td>\n",
       "      <td>2</td>\n",
       "    </tr>\n",
       "    <tr>\n",
       "      <th>2</th>\n",
       "      <td>350890</td>\n",
       "      <td>0 days 08:47:00</td>\n",
       "      <td>0 days 08:47:00</td>\n",
       "      <td>140</td>\n",
       "      <td>6</td>\n",
       "    </tr>\n",
       "    <tr>\n",
       "      <th>3</th>\n",
       "      <td>350890</td>\n",
       "      <td>0 days 08:52:00</td>\n",
       "      <td>0 days 08:52:00</td>\n",
       "      <td>20966</td>\n",
       "      <td>11</td>\n",
       "    </tr>\n",
       "    <tr>\n",
       "      <th>4</th>\n",
       "      <td>350890</td>\n",
       "      <td>0 days 08:54:00</td>\n",
       "      <td>0 days 08:54:00</td>\n",
       "      <td>1279</td>\n",
       "      <td>15</td>\n",
       "    </tr>\n",
       "  </tbody>\n",
       "</table>\n",
       "</div>"
      ],
      "text/plain": [
       "   trip_id    arrival_time  departure_time  stop_id  stop_sequence\n",
       "0   350890 0 days 08:39:00 0 days 08:39:00    20965              1\n",
       "1   350890 0 days 08:43:00 0 days 08:43:00       82              2\n",
       "2   350890 0 days 08:47:00 0 days 08:47:00      140              6\n",
       "3   350890 0 days 08:52:00 0 days 08:52:00    20966             11\n",
       "4   350890 0 days 08:54:00 0 days 08:54:00     1279             15"
      ]
     },
     "execution_count": 9,
     "metadata": {},
     "output_type": "execute_result"
    }
   ],
   "source": [
    "# Sort by TRIP and STOP_SEQUENCE\n",
    "stop_times = stop_times.sort_values(by=[\"trip_id\", \"stop_sequence\"])\n",
    "stop_times.head()"
   ]
  },
  {
   "cell_type": "markdown",
   "metadata": {},
   "source": [
    "**Start making the network:**\n",
    "\n",
    "### 1. **Add all the nodes**\n",
    "\n",
    "Each node should have a unique ID. The IDs are formatted in the following way:\n",
    "`stop_id-trip_id-type`.\n",
    "\n",
    "- `stop_id` is the stop_id of the stop where the event happens\n",
    "- `trip_id` is the trip_id of the trip where the event happens\n",
    "- `type` is either `arrival` or `departure`\n",
    "  \n",
    "Iterrate through each row in the `stop_times` table. **Each row has two nodes**, one departure and another arrival."
   ]
  },
  {
   "cell_type": "code",
   "execution_count": 35,
   "metadata": {},
   "outputs": [],
   "source": [
    "G1 = nx.Graph()\n",
    "\n",
    "for _, event in stop_times.iterrows():\n",
    "    # Arrival time\n",
    "    G1.add_node(\n",
    "        f\"{event['stop_id']}-{event['trip_id']}-arrival\",\n",
    "        type=\"arrival\",\n",
    "        time=event[\"arrival_time\"],\n",
    "    )\n",
    "    # Departure time\n",
    "    G1.add_node(\n",
    "        f\"{event['stop_id']}-{event['trip_id']}-departure\",\n",
    "        type=\"departure\",\n",
    "        time=event[\"departure_time\"],\n",
    "    )"
   ]
  },
  {
   "cell_type": "code",
   "execution_count": 47,
   "metadata": {},
   "outputs": [
    {
     "data": {
      "text/plain": [
       "4088584"
      ]
     },
     "execution_count": 47,
     "metadata": {},
     "output_type": "execute_result"
    }
   ],
   "source": [
    "G1.number_of_nodes() # 4,088,584"
   ]
  },
  {
   "cell_type": "markdown",
   "metadata": {},
   "source": [
    "### **2. Add \"Ride\" edges and \"Wait\" edges**\n",
    "\n",
    "A \"ride\" edges is between the departure node of one stop to the arrival node of the next stop in the same trip.\n",
    "A \"wait\" edges is between the arrival node of one stop to the departure node of the same stop in the same trip.\n",
    "\n",
    "To add the \"ride\" and \"wait\" edges, we first group the `stop_times` table by trip. For each trip, all the rows are stacked up in order.\n",
    "A \"Ride\" edge is formed from one row to the next, and a \"Wait\" edge is formed within a single row."
   ]
  },
  {
   "cell_type": "code",
   "execution_count": 36,
   "metadata": {},
   "outputs": [],
   "source": [
    "# Save so that we don't ruin the original\n",
    "G_ride_wait_edges = G1.copy()"
   ]
  },
  {
   "cell_type": "code",
   "execution_count": 37,
   "metadata": {},
   "outputs": [],
   "source": [
    "for trip_id, group in stop_times.groupby(\"trip_id\"):\n",
    "    # Generate event IDs for each event\n",
    "    group[\"arrival_event\"] = (\n",
    "        group[\"stop_id\"].astype(str)\n",
    "        + \"-\"\n",
    "        + group[\"trip_id\"].astype(str)\n",
    "        + \"-\"\n",
    "        + \"arrival\"\n",
    "    )\n",
    "    group[\"departure_event\"] = (\n",
    "        group[\"stop_id\"].astype(str)\n",
    "        + \"-\"\n",
    "        + group[\"trip_id\"].astype(str)\n",
    "        + \"-\"\n",
    "        + \"departure\"\n",
    "    )\n",
    "\n",
    "    for i in range(len(group) - 1):\n",
    "        # Add \"Ride\" edges\n",
    "        # From the \"departure time\" of the previous stop to the \"arrival time\" of the next stop\n",
    "        G_ride_wait_edges.add_edge(\n",
    "            group.iloc[i][\"departure_event\"],\n",
    "            group.iloc[i + 1][\"arrival_event\"],\n",
    "            type=\"ride\",\n",
    "            weight=group.iloc[i + 1][\"arrival_time\"] - group.iloc[i][\"departure_time\"],\n",
    "        )\n",
    "\n",
    "    for i in range(len(group)):\n",
    "        # Add \"Wait\" edges\n",
    "        G_ride_wait_edges.add_edge(\n",
    "            group.iloc[i][\"arrival_event\"],\n",
    "            group.iloc[i][\"departure_event\"],\n",
    "            type=\"wait\",\n",
    "            weight=group.iloc[i][\"departure_time\"] - group.iloc[i][\"arrival_time\"],\n",
    "        )"
   ]
  },
  {
   "cell_type": "code",
   "execution_count": 93,
   "metadata": {},
   "outputs": [
    {
     "data": {
      "text/plain": [
       "4088584"
      ]
     },
     "execution_count": 93,
     "metadata": {},
     "output_type": "execute_result"
    }
   ],
   "source": [
    "G_ride_wait_edges.number_of_nodes() # 4,088,584\n",
    "\n",
    "# The number of nodes stays the same, meaning it's correct"
   ]
  },
  {
   "cell_type": "code",
   "execution_count": 95,
   "metadata": {},
   "outputs": [],
   "source": [
    "nx.write_adjlist(G_ride_wait_edges, \"data/G_ride_wait_edges.adjlist\")"
   ]
  },
  {
   "cell_type": "code",
   "execution_count": 10,
   "metadata": {},
   "outputs": [],
   "source": [
    "G_ride_wait_edges = nx.read_adjlist(\"data/G_ride_wait_edges.adjlist\")"
   ]
  },
  {
   "cell_type": "code",
   "execution_count": 11,
   "metadata": {},
   "outputs": [],
   "source": [
    "G_transfer_edges = G_ride_wait_edges.copy()"
   ]
  },
  {
   "cell_type": "markdown",
   "metadata": {},
   "source": [
    "3. Add \"Transfer\" edges"
   ]
  },
  {
   "cell_type": "code",
   "execution_count": 12,
   "metadata": {},
   "outputs": [],
   "source": [
    "# First, identify only the stops where more than one route stops,\n",
    "# Transfer edges can only happen within these stops\n",
    "\n",
    "trip_route_dict = gtfs[\"trips\"][[\"route_id\", \"trip_id\"]]\n",
    "stop_times_with_route = stop_times.merge(\n",
    "    trip_route_dict, left_on=\"trip_id\", right_on=\"trip_id\", how=\"left\"\n",
    ")\n",
    "\n",
    "stops_route_count = stop_times_with_route.groupby(\"stop_id\")[\"route_id\"].nunique()\n",
    "transfer_stops = stops_route_count[stops_route_count > 1].index\n",
    "\n",
    "# Mask for stop_times events happening at transfer stops\n",
    "transfer_stops_mask = stop_times_with_route.stop_id.isin(transfer_stops)\n",
    "\n",
    "\n",
    "# This is: `stop_times` table, but:\n",
    "# - Only transfer stops\n",
    "# - Sorted by stop_id and arrival_time\n",
    "\n",
    "subset = stop_times_with_route.loc[transfer_stops_mask].copy()\n",
    "\n",
    "subset[\"arrival_event\"] = (\n",
    "    subset[\"stop_id\"].astype(str) + \"-\" + subset[\"trip_id\"].astype(str) + \"-\" + \"arrival\"\n",
    ")\n",
    "subset[\"departure_event\"] = (\n",
    "    subset[\"stop_id\"].astype(str) + \"-\" + subset[\"trip_id\"].astype(str) + \"-\" + \"departure\"\n",
    ")\n",
    "\n",
    "stop_times_by_stop_in_time_seq = subset.sort_values(\n",
    "    [\"stop_id\", \"arrival_time\"]\n",
    ").copy()"
   ]
  },
  {
   "cell_type": "code",
   "execution_count": 13,
   "metadata": {},
   "outputs": [
    {
     "data": {
      "text/html": [
       "<div>\n",
       "<style scoped>\n",
       "    .dataframe tbody tr th:only-of-type {\n",
       "        vertical-align: middle;\n",
       "    }\n",
       "\n",
       "    .dataframe tbody tr th {\n",
       "        vertical-align: top;\n",
       "    }\n",
       "\n",
       "    .dataframe thead th {\n",
       "        text-align: right;\n",
       "    }\n",
       "</style>\n",
       "<table border=\"1\" class=\"dataframe\">\n",
       "  <thead>\n",
       "    <tr style=\"text-align: right;\">\n",
       "      <th></th>\n",
       "      <th>trip_id</th>\n",
       "      <th>arrival_time</th>\n",
       "      <th>departure_time</th>\n",
       "      <th>stop_id</th>\n",
       "      <th>stop_sequence</th>\n",
       "      <th>route_id</th>\n",
       "      <th>arrival_event</th>\n",
       "      <th>departure_event</th>\n",
       "    </tr>\n",
       "  </thead>\n",
       "  <tbody>\n",
       "    <tr>\n",
       "      <th>1576675</th>\n",
       "      <td>414728</td>\n",
       "      <td>0 days 04:48:00</td>\n",
       "      <td>0 days 04:48:00</td>\n",
       "      <td>2</td>\n",
       "      <td>23</td>\n",
       "      <td>9</td>\n",
       "      <td>2-414728-arrival</td>\n",
       "      <td>2-414728-departure</td>\n",
       "    </tr>\n",
       "    <tr>\n",
       "      <th>1744261</th>\n",
       "      <td>421851</td>\n",
       "      <td>0 days 05:02:00</td>\n",
       "      <td>0 days 05:02:00</td>\n",
       "      <td>2</td>\n",
       "      <td>39</td>\n",
       "      <td>65</td>\n",
       "      <td>2-421851-arrival</td>\n",
       "      <td>2-421851-departure</td>\n",
       "    </tr>\n",
       "    <tr>\n",
       "      <th>1386396</th>\n",
       "      <td>409639</td>\n",
       "      <td>0 days 05:11:00</td>\n",
       "      <td>0 days 05:11:00</td>\n",
       "      <td>2</td>\n",
       "      <td>39</td>\n",
       "      <td>65</td>\n",
       "      <td>2-409639-arrival</td>\n",
       "      <td>2-409639-departure</td>\n",
       "    </tr>\n",
       "    <tr>\n",
       "      <th>1391294</th>\n",
       "      <td>409715</td>\n",
       "      <td>0 days 05:12:00</td>\n",
       "      <td>0 days 05:12:00</td>\n",
       "      <td>2</td>\n",
       "      <td>39</td>\n",
       "      <td>65</td>\n",
       "      <td>2-409715-arrival</td>\n",
       "      <td>2-409715-departure</td>\n",
       "    </tr>\n",
       "    <tr>\n",
       "      <th>1575117</th>\n",
       "      <td>414699</td>\n",
       "      <td>0 days 05:12:00</td>\n",
       "      <td>0 days 05:12:00</td>\n",
       "      <td>2</td>\n",
       "      <td>23</td>\n",
       "      <td>9</td>\n",
       "      <td>2-414699-arrival</td>\n",
       "      <td>2-414699-departure</td>\n",
       "    </tr>\n",
       "  </tbody>\n",
       "</table>\n",
       "</div>"
      ],
      "text/plain": [
       "         trip_id    arrival_time  departure_time  stop_id  stop_sequence  \\\n",
       "1576675   414728 0 days 04:48:00 0 days 04:48:00        2             23   \n",
       "1744261   421851 0 days 05:02:00 0 days 05:02:00        2             39   \n",
       "1386396   409639 0 days 05:11:00 0 days 05:11:00        2             39   \n",
       "1391294   409715 0 days 05:12:00 0 days 05:12:00        2             39   \n",
       "1575117   414699 0 days 05:12:00 0 days 05:12:00        2             23   \n",
       "\n",
       "        route_id     arrival_event     departure_event  \n",
       "1576675        9  2-414728-arrival  2-414728-departure  \n",
       "1744261       65  2-421851-arrival  2-421851-departure  \n",
       "1386396       65  2-409639-arrival  2-409639-departure  \n",
       "1391294       65  2-409715-arrival  2-409715-departure  \n",
       "1575117        9  2-414699-arrival  2-414699-departure  "
      ]
     },
     "execution_count": 13,
     "metadata": {},
     "output_type": "execute_result"
    }
   ],
   "source": [
    "stop_times_by_stop_in_time_seq.head()"
   ]
  },
  {
   "cell_type": "markdown",
   "metadata": {},
   "source": [
    "Then, add transfer edges where:\n",
    "1. The stop is the same\n",
    "2. The arrival time of the previous trip is 0-1800 seconds before the departure time of the next trip\n",
    "3. To a different route"
   ]
  },
  {
   "cell_type": "code",
   "execution_count": 14,
   "metadata": {},
   "outputs": [],
   "source": [
    "transfer_stop = 2"
   ]
  },
  {
   "cell_type": "code",
   "execution_count": 15,
   "metadata": {},
   "outputs": [],
   "source": [
    "# Test: All the transfer edges happening at stop 2\n",
    "stop_times_at_stop = subset.query(\"stop_id == @transfer_stop\").copy()\n",
    "all_routes_at_stop = stop_times_at_stop.route_id.unique()"
   ]
  },
  {
   "cell_type": "code",
   "execution_count": 19,
   "metadata": {},
   "outputs": [],
   "source": [
    "stop_times_at_stop_by_route = {}\n",
    "\n",
    "for route in all_routes_at_stop:\n",
    "    stop_times_at_stop_by_route[route] = stop_times_at_stop.query('route_id == @route').copy()"
   ]
  },
  {
   "cell_type": "code",
   "execution_count": 26,
   "metadata": {},
   "outputs": [],
   "source": [
    "def get_transfer_table(from_table, to_table):\n",
    "    '''\n",
    "    `from_table` and `to_table` are tables of stop_times at one transfer stop for one route.\n",
    "    sorted by arrival_time\n",
    "    `from_table` corresponds to the route transferring FROM, and `to_table` corresponds to the route transferring TO\n",
    "    '''\n",
    "\n",
    "    # Initialize the result table\n",
    "    result = pd.DataFrame(columns=[\"from_event\", \"to_event\"])\n",
    "    \n",
    "    pointer_index = 0\n",
    "\n",
    "    # Both the \"from\" table and the \"to\" table are sorted by stop sequence, and therefore time\n",
    "\n",
    "    # Iterate through each arrival for the \"from\" route\n",
    "    # and try to find a transfer for the target route\n",
    "\n",
    "    # To find such a transfer, iterate through the second table\n",
    "    # When a transfer is found, break the iteration, and a pointer is moved to this table\n",
    "    # For the next departure from the \"from\" table, ITS transfer cannot be earlier than this one\n",
    "    # Therefore, for the next departure, iterate the \"to\" table from this pointer\n",
    "\n",
    "\n",
    "    for _, arrival in from_table.iterrows():\n",
    "        arrival_time = arrival[\"arrival_time\"]\n",
    "        while pointer_index < len(to_table):\n",
    "            departure = to_table.iloc[pointer_index]\n",
    "            departure_time = departure[\"departure_time\"]\n",
    "            if departure_time > arrival_time:\n",
    "                result = pd.concat(\n",
    "                    [\n",
    "                        result,\n",
    "                        pd.DataFrame(\n",
    "                            {\n",
    "                                \"from_event\": [arrival[\"arrival_event\"]],\n",
    "                                \"to_event\": [departure[\"departure_event\"]],\n",
    "                                \"weight\": departure_time - arrival_time,\n",
    "                            }\n",
    "                        ),\n",
    "                    ]\n",
    "                )\n",
    "                # Do not increment the pointer at this point,\n",
    "                # because the next arrival might be using the same departure as its transfer\n",
    "                break\n",
    "            elif departure_time <= arrival_time:\n",
    "                pointer_index += 1\n",
    "    \n",
    "    return result"
   ]
  },
  {
   "cell_type": "code",
   "execution_count": 32,
   "metadata": {},
   "outputs": [],
   "source": [
    "def get_all_transfer_table_at_stop(stop_times_at_stop):\n",
    "    all_routes_at_stop = stop_times_at_stop.route_id.unique()\n",
    "\n",
    "    # Initialize the result table\n",
    "    transfer_table_for_stop = pd.DataFrame()\n",
    "\n",
    "    stop_times_at_stop_by_route = {}\n",
    "\n",
    "    # Get all subsets for each route\n",
    "    for route in all_routes_at_stop:\n",
    "        stop_times_at_stop_by_route[route] = stop_times_at_stop.query('route_id == @route').copy()\n",
    "\n",
    "    for source_route, target_route in itertools.permutations(all_routes_at_stop, 2):\n",
    "        from_table = stop_times_at_stop_by_route[source_route]\n",
    "        to_table = stop_times_at_stop_by_route[target_route]\n",
    "\n",
    "        this_transfer_table = get_transfer_table(from_table, to_table)\n",
    "        transfer_table_for_stop = pd.concat([transfer_table_for_stop, this_transfer_table])\n",
    "    \n",
    "    return transfer_table_for_stop"
   ]
  },
  {
   "cell_type": "code",
   "execution_count": 36,
   "metadata": {},
   "outputs": [],
   "source": [
    "final_transfer_table = pd.DataFrame()\n",
    "\n",
    "for stop in transfer_stops:\n",
    "\n",
    "    stop_times_at_stop = subset.query(\"stop_id == @stop\").copy()\n",
    "    transfers_this_stop = get_all_transfer_table_at_stop(stop_times_at_stop)\n",
    "\n",
    "    final_transfer_table = pd.concat([final_transfer_table, transfers_this_stop])"
   ]
  },
  {
   "cell_type": "code",
   "execution_count": 38,
   "metadata": {},
   "outputs": [],
   "source": [
    "for _, row in final_transfer_table.iterrows():\n",
    "    G_transfer_edges.add_edge(\n",
    "        row[\"from_event\"],\n",
    "        row[\"to_event\"],\n",
    "        type=\"transfer\",\n",
    "        weight=row[\"weight\"],\n",
    "    )"
   ]
  },
  {
   "cell_type": "code",
   "execution_count": 37,
   "metadata": {},
   "outputs": [
    {
     "data": {
      "text/html": [
       "<div>\n",
       "<style scoped>\n",
       "    .dataframe tbody tr th:only-of-type {\n",
       "        vertical-align: middle;\n",
       "    }\n",
       "\n",
       "    .dataframe tbody tr th {\n",
       "        vertical-align: top;\n",
       "    }\n",
       "\n",
       "    .dataframe thead th {\n",
       "        text-align: right;\n",
       "    }\n",
       "</style>\n",
       "<table border=\"1\" class=\"dataframe\">\n",
       "  <thead>\n",
       "    <tr style=\"text-align: right;\">\n",
       "      <th></th>\n",
       "      <th>from_event</th>\n",
       "      <th>to_event</th>\n",
       "      <th>weight</th>\n",
       "    </tr>\n",
       "  </thead>\n",
       "  <tbody>\n",
       "    <tr>\n",
       "      <th>0</th>\n",
       "      <td>2-392852-arrival</td>\n",
       "      <td>2-408470-departure</td>\n",
       "      <td>0 days 01:31:00</td>\n",
       "    </tr>\n",
       "    <tr>\n",
       "      <th>0</th>\n",
       "      <td>2-392853-arrival</td>\n",
       "      <td>2-408470-departure</td>\n",
       "      <td>0 days 02:11:00</td>\n",
       "    </tr>\n",
       "    <tr>\n",
       "      <th>0</th>\n",
       "      <td>2-392854-arrival</td>\n",
       "      <td>2-408470-departure</td>\n",
       "      <td>0 days 02:51:00</td>\n",
       "    </tr>\n",
       "    <tr>\n",
       "      <th>0</th>\n",
       "      <td>2-392855-arrival</td>\n",
       "      <td>2-408470-departure</td>\n",
       "      <td>0 days 03:31:00</td>\n",
       "    </tr>\n",
       "    <tr>\n",
       "      <th>0</th>\n",
       "      <td>2-392856-arrival</td>\n",
       "      <td>2-408512-departure</td>\n",
       "      <td>0 days 00:13:00</td>\n",
       "    </tr>\n",
       "    <tr>\n",
       "      <th>...</th>\n",
       "      <td>...</td>\n",
       "      <td>...</td>\n",
       "      <td>...</td>\n",
       "    </tr>\n",
       "    <tr>\n",
       "      <th>0</th>\n",
       "      <td>32637-414636-arrival</td>\n",
       "      <td>32637-397738-departure</td>\n",
       "      <td>0 days 02:34:00</td>\n",
       "    </tr>\n",
       "    <tr>\n",
       "      <th>0</th>\n",
       "      <td>32637-414637-arrival</td>\n",
       "      <td>32637-397738-departure</td>\n",
       "      <td>0 days 01:55:00</td>\n",
       "    </tr>\n",
       "    <tr>\n",
       "      <th>0</th>\n",
       "      <td>32637-414638-arrival</td>\n",
       "      <td>32637-397738-departure</td>\n",
       "      <td>0 days 01:15:00</td>\n",
       "    </tr>\n",
       "    <tr>\n",
       "      <th>0</th>\n",
       "      <td>32637-414639-arrival</td>\n",
       "      <td>32637-397738-departure</td>\n",
       "      <td>0 days 00:33:00</td>\n",
       "    </tr>\n",
       "    <tr>\n",
       "      <th>0</th>\n",
       "      <td>32637-414640-arrival</td>\n",
       "      <td>32637-397738-departure</td>\n",
       "      <td>0 days 17:17:00</td>\n",
       "    </tr>\n",
       "  </tbody>\n",
       "</table>\n",
       "<p>783147 rows × 3 columns</p>\n",
       "</div>"
      ],
      "text/plain": [
       "              from_event                to_event          weight\n",
       "0       2-392852-arrival      2-408470-departure 0 days 01:31:00\n",
       "0       2-392853-arrival      2-408470-departure 0 days 02:11:00\n",
       "0       2-392854-arrival      2-408470-departure 0 days 02:51:00\n",
       "0       2-392855-arrival      2-408470-departure 0 days 03:31:00\n",
       "0       2-392856-arrival      2-408512-departure 0 days 00:13:00\n",
       "..                   ...                     ...             ...\n",
       "0   32637-414636-arrival  32637-397738-departure 0 days 02:34:00\n",
       "0   32637-414637-arrival  32637-397738-departure 0 days 01:55:00\n",
       "0   32637-414638-arrival  32637-397738-departure 0 days 01:15:00\n",
       "0   32637-414639-arrival  32637-397738-departure 0 days 00:33:00\n",
       "0   32637-414640-arrival  32637-397738-departure 0 days 17:17:00\n",
       "\n",
       "[783147 rows x 3 columns]"
      ]
     },
     "execution_count": 37,
     "metadata": {},
     "output_type": "execute_result"
    }
   ],
   "source": [
    "final_transfer_table"
   ]
  },
  {
   "cell_type": "markdown",
   "metadata": {},
   "source": [
    "First task: make all the shapes of lines and stops"
   ]
  },
  {
   "cell_type": "code",
   "execution_count": null,
   "metadata": {},
   "outputs": [],
   "source": [
    "shapesGrouped = gtfs[\"shapes\"].groupby(\"shape_id\").apply(\n",
    "    lambda x: x.sort_values(\"shape_pt_sequence\")\n",
    ").reset_index(drop=True)\n",
    "\n",
    "shapesLines = shapesGrouped.groupby(\"shape_id\").apply(\n",
    "    lambda x: LineString(zip(x[\"shape_pt_lon\"], x[\"shape_pt_lat\"]))\n",
    ")\n",
    "\n",
    "shapesGdf = gpd.GeoDataFrame(shapesLines, columns=[\"geometry\"], crs=\"EPSG:4326\")"
   ]
  },
  {
   "cell_type": "markdown",
   "metadata": {},
   "source": [
    "Understand trip types. A trip type is any trip passing through the same stops in the same order"
   ]
  },
  {
   "cell_type": "code",
   "execution_count": 17,
   "metadata": {},
   "outputs": [],
   "source": [
    "stopTimes = gtfs[\"stop_times\"].sort_values(by=[\"trip_id\", \"stop_sequence\"])\n",
    "\n",
    "# Let's group trips into trip types: any trip passing through the same stops in the same order\n",
    "\n",
    "stopTimes[\"stopIdStr\"] = stopTimes[\"stop_id\"].astype(str)\n",
    "tripTypes = (\n",
    "    stopTimes.groupby(\"trip_id\")[\"stopIdStr\"].apply(lambda x: \"-\".join(x)).reset_index()\n",
    ")"
   ]
  },
  {
   "cell_type": "code",
   "execution_count": 19,
   "metadata": {},
   "outputs": [],
   "source": [
    "uniqueTypes = tripTypes.groupby(\"stopIdStr\").size().reset_index()[[\"stopIdStr\"]]\n",
    "uniqueTypes[\"tripTypeId\"] = uniqueTypes.index"
   ]
  },
  {
   "cell_type": "code",
   "execution_count": 22,
   "metadata": {},
   "outputs": [],
   "source": [
    "# Dictionary mapping each trip_id to its tripTypeId\n",
    "tripTypes = tripTypes.merge(\n",
    "    uniqueTypes,\n",
    "    how='left',\n",
    "    left_on=\"stopIdStr\",\n",
    "    right_on=\"stopIdStr\"\n",
    ")[[\"trip_id\", \"tripTypeId\"]]"
   ]
  },
  {
   "cell_type": "code",
   "execution_count": 24,
   "metadata": {},
   "outputs": [],
   "source": [
    "stopTimes = stopTimes.merge(\n",
    "    tripTypes,\n",
    "    how='left',\n",
    "    left_on=\"trip_id\",\n",
    "    right_on=\"trip_id\"\n",
    ")"
   ]
  },
  {
   "cell_type": "code",
   "execution_count": 25,
   "metadata": {},
   "outputs": [],
   "source": [
    "routings = stopTimes.drop_duplicates(\n",
    "    subset=[\"tripTypeId\", \"stop_sequence\", \"stop_id\"]\n",
    ").sort_values(by=[\"tripTypeId\", \"stop_sequence\"])[\n",
    "    [\"tripTypeId\", \"stop_sequence\", \"stop_id\"]\n",
    "].reset_index(drop=True)"
   ]
  },
  {
   "cell_type": "code",
   "execution_count": null,
   "metadata": {},
   "outputs": [],
   "source": [
    "routings.head()"
   ]
  },
  {
   "cell_type": "markdown",
   "metadata": {},
   "source": [
    "Let's create a multigraph!"
   ]
  },
  {
   "cell_type": "markdown",
   "metadata": {},
   "source": [
    "## Space-expanded network"
   ]
  },
  {
   "cell_type": "code",
   "execution_count": 44,
   "metadata": {},
   "outputs": [],
   "source": [
    "G = nx.MultiDiGraph()"
   ]
  },
  {
   "cell_type": "code",
   "execution_count": 45,
   "metadata": {},
   "outputs": [],
   "source": [
    "# First add the nodes\n",
    "\n",
    "for _, stop in gtfs[\"stops\"].iterrows():\n",
    "    G.add_node(\n",
    "        stop[\"stop_id\"],\n",
    "        stop_name=stop[\"stop_name\"],\n",
    "        lat=stop[\"stop_lat\"],\n",
    "        lon=stop[\"stop_lon\"],\n",
    "        zoneId=stop[\"zone_id\"],\n",
    "        wheelchairBoarding=stop[\"wheelchair_boarding\"],\n",
    "    )"
   ]
  },
  {
   "cell_type": "code",
   "execution_count": 48,
   "metadata": {},
   "outputs": [],
   "source": [
    "for tripType, group in routings.groupby(\"tripTypeId\"):\n",
    "    stopIds = group[\"stop_id\"].tolist()\n",
    "    for i in range(len(stopIds) - 1):\n",
    "        G.add_edge(\n",
    "            stopIds[i],\n",
    "            stopIds[i + 1],\n",
    "            key=tripType,\n",
    "        )"
   ]
  },
  {
   "cell_type": "code",
   "execution_count": null,
   "metadata": {},
   "outputs": [],
   "source": [
    "import matplotlib.pyplot as plt\n",
    "\n",
    "# Position dictionary for each node based on lat/lon\n",
    "pos = {node: (G.nodes[node]['lon'], G.nodes[node]['lat']) for node in G.nodes()}\n",
    "\n",
    "fig, ax = plt.subplots(figsize=(10, 10))\n",
    "\n",
    "# Draw only the edges using draw_networkx_edges\n",
    "nx.draw_networkx_edges(G, pos, ax=ax, edge_color='blue', width=0.5)\n",
    "\n",
    "plt.xlabel('Longitude')\n",
    "plt.ylabel('Latitude')\n",
    "plt.title('GTFS Network Graph - Edges Only')\n",
    "plt.show()"
   ]
  },
  {
   "cell_type": "markdown",
   "metadata": {},
   "source": [
    "## Time-expanded network"
   ]
  },
  {
   "cell_type": "code",
   "execution_count": null,
   "metadata": {},
   "outputs": [],
   "source": []
  }
 ],
 "metadata": {
  "kernelspec": {
   "display_name": "musa-550-fall-2022",
   "language": "python",
   "name": "python3"
  },
  "language_info": {
   "codemirror_mode": {
    "name": "ipython",
    "version": 3
   },
   "file_extension": ".py",
   "mimetype": "text/x-python",
   "name": "python",
   "nbconvert_exporter": "python",
   "pygments_lexer": "ipython3",
   "version": "3.9.15"
  },
  "orig_nbformat": 4
 },
 "nbformat": 4,
 "nbformat_minor": 2
}
